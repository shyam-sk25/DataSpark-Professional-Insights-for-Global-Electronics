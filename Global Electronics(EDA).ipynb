{
 "cells": [
  {
   "cell_type": "code",
   "execution_count": null,
   "id": "247674f3-38b2-4b96-ad09-fec927cd23d8",
   "metadata": {},
   "outputs": [],
   "source": [
    "# Importing libraries\n",
    "import numpy as np               #NumPy :Array operations\n",
    "import pandas as pd              #Pandas : Data manipulation\n",
    "import matplotlib.pyplot as plt  #Matplotlib : Visualization  \n",
    "import seaborn as sns            #Seaborn : Statistical Visualization\n",
    "import mysql.connector           #MySQL Connector : Database interaction\n",
    " "
   ]
  },
  {
   "cell_type": "code",
   "execution_count": null,
   "id": "d2509e95-8021-484e-9ec7-43b90ed678f0",
   "metadata": {},
   "outputs": [],
   "source": [
    "# Load datasets\n",
    "stores_data = pd.read_csv('stores.csv')\n",
    "sales_data = pd.read_csv('sales.csv')\n",
    "products_data = pd.read_csv('products.csv')\n",
    "customer_data = pd.read_csv('customers.csv', encoding='latin1') \n",
    "exchange_rates_data = pd.read_csv('exchange_rates.csv')\n",
    "\n",
    "# Inspect datasets\n",
    "datasets = {'Stores': stores, 'Sales': sales, 'Products': products, 'Customers': customers, 'Exchange Rates': exchange_rates}\n",
    "\n",
    "for name, data in datasets.items():\n",
    "    print(f\"Dataset: {name}\")\n",
    "    print(data.info())\n",
    "    print(data.head(), \"\\n\")\n"
   ]
  },
  {
   "cell_type": "code",
   "execution_count": null,
   "id": "b42cc50e-0e03-4ab1-8fc7-2344793299b2",
   "metadata": {},
   "outputs": [],
   "source": [
    "DATA CLEANING"
   ]
  },
  {
   "cell_type": "code",
   "execution_count": null,
   "id": "0e161181-2d1d-47e1-8ce6-650b552acc7c",
   "metadata": {},
   "outputs": [],
   "source": [
    "#Convert to datetime and then format to 'YY/MM/DD'\n",
    "sales_data['Order Date'] = pd.to_datetime(sales_data['Order Date'], format=\"%m/%d/%Y\", errors='coerce').dt.date\n",
    "\n",
    "# fill the missing values\n",
    "sales_data[\"Delivery Date\"]=sales_data[\"Delivery Date\"].fillna(0)\n",
    "sales_data.info()"
   ]
  },
  {
   "cell_type": "code",
   "execution_count": null,
   "id": "2b4f2f56-b40d-4ace-a44a-eaab165e8ab5",
   "metadata": {},
   "outputs": [],
   "source": [
    "#customer_data\n",
    "\n",
    "# Handle missing 'State Code' (replace with 'Unknown' or other suitable method)\n",
    "customer_data['State Code'] = customer_data['State Code'].fillna('Unknown')\n",
    "\n",
    "# Convert Birthday to datetime format if it's not already in datetime\n",
    "customer_data['Birthday'] = pd.to_datetime(customer_data['Birthday'], format='%m/%d/%Y')\n",
    "\n",
    "\n",
    "# Optionally, check for missing values\n",
    "print(customer_data.isnull().sum())\n"
   ]
  },
  {
   "cell_type": "code",
   "execution_count": null,
   "id": "9a82cf61-f5f8-4078-b443-0217e8d0040f",
   "metadata": {},
   "outputs": [],
   "source": [
    "#products_data\n",
    "import re\n",
    "\n",
    "# Remove dollar signs and commas from 'Unit Cost USD' and 'Unit Price USD' columns\n",
    "products_data[\"Unit Cost USD\"] = products_data[\"Unit Cost USD\"].replace({\"$\": \"\", \",\": \"\"}, regex=True)\n",
    "products_data[\"Unit Price USD\"] = products_data[\"Unit Price USD\"].replace({\"$\": \"\", \",\": \"\"}, regex=True)\n",
    "\n",
    "# Convert the 'Unit Cost USD' and 'Unit Price USD' columns to float for calculations\n",
    "products_data[\"Unit Cost USD\"] = products_data[\"Unit Cost USD\"].astype(float)\n",
    "products_data[\"Unit Price USD\"] = products_data[\"Unit Price USD\"].astype(float)\n",
    "\n",
    "# Optionally, check for missing values\n",
    "print(products_data.isnull().sum())\n"
   ]
  },
  {
   "cell_type": "code",
   "execution_count": null,
   "id": "bd218d38-5c00-4f15-a482-ff07e6f59500",
   "metadata": {},
   "outputs": [],
   "source": [
    "#stores_data\n",
    "# Handle missing values in 'Square Meters'\n",
    "stores_data['Square Meters'] = stores_data['Square Meters'].fillna(stores_data['Square Meters'].mean())  # Fill with the mean value\n",
    "\n",
    "# Convert 'Open Date' to datetime format with dayfirst=False (default is False)\n",
    "stores_data['Open Date'] = pd.to_datetime(stores_data['Open Date'], dayfirst=False)\n",
    "\n",
    "# Check data types and missing values after handling\n",
    "print(stores_data.info())"
   ]
  },
  {
   "cell_type": "code",
   "execution_count": null,
   "id": "4a3c87ec-73d5-4d94-9c17-78cf2615aed5",
   "metadata": {},
   "outputs": [],
   "source": [
    "#Exchange_rates_data\n",
    "# Rename the 'Currency' column to 'Currency Code' for consistency\n",
    "exchange_rates_data.rename(columns={\"Currency\": \"Currency Code\"}, inplace=True)\n",
    "\n",
    "# Convert Date to datetime format first (if not already done)\n",
    "exchange_rates_data['Date'] = pd.to_datetime(exchange_rates_data['Date'], errors='coerce')\n",
    "\n",
    "# Convert Date to m/d/y format as a string\n",
    "exchange_rates_data['Date'] = exchange_rates_data['Date'].dt.strftime('%m/%d/%Y')\n",
    "\n",
    "#Check data types and missing values after handling\n",
    "print(exchange_rates_data.info())"
   ]
  },
  {
   "cell_type": "code",
   "execution_count": null,
   "id": "e2b8f4d9-7214-41c0-9e2f-58ae4fe523a1",
   "metadata": {},
   "outputs": [],
   "source": [
    "# Data Distribution & Summary Statistics\n",
    "\n",
    "# Summary statistics for numerical columns\n",
    "print(\"stores_data:\", stores_data.describe())\n",
    "print(\"sales_data:\", sales_data.describe())\n",
    "print(\"products_data:\", products_data.describe())\n",
    "print(\"customer_data:\", customer_data.describe())\n",
    "print(\"exchange_rates_data:\", exchange_rates_data.describe())\n"
   ]
  },
  {
   "cell_type": "code",
   "execution_count": null,
   "id": "891c8eb5-65c1-4dc2-be17-953d9505f7c9",
   "metadata": {},
   "outputs": [],
   "source": [
    "#Missing Data Handling\n",
    "\n",
    "# Check for missing values\n",
    "print(stores_data.isnull().sum())\n",
    "print(sales_data.isnull().sum())\n",
    "print(products_data.isnull().sum())\n",
    "print(customer_data.isnull().sum())\n",
    "print(exchange_rates_data.isnull().sum())\n"
   ]
  },
  {
   "cell_type": "code",
   "execution_count": null,
   "id": "50094ec9-6b67-4690-b809-166a86c9c832",
   "metadata": {},
   "outputs": [],
   "source": [
    "#Convert Data Types\n",
    "# Convert 'Open Date' in stores_data to datetime\n",
    "stores_data['Open Date'] = pd.to_datetime(stores_data['Open Date'])\n",
    "\n",
    "# Convert 'Birthday' in customer_data to datetime\n",
    "customer_data['Birthday'] = pd.to_datetime(customer_data['Birthday'])\n",
    "\n",
    "# Convert 'Exchange' rate to float\n",
    "exchange_rates_data['Exchange'] = exchange_rates_data['Exchange'].astype(float)\n"
   ]
  },
  {
   "cell_type": "code",
   "execution_count": null,
   "id": "6ddc330d-2d27-426d-8564-b495a29a67db",
   "metadata": {},
   "outputs": [],
   "source": [
    "#Merge Datasets for Analysis\n",
    "# Merge sales data with product data to include product details in the sales data\n",
    "sales_product_data = sales_data.merge(products_data, how='inner', on='ProductKey')\n",
    "\n",
    "# Check the first few rows of the merged data\n",
    "sales_product_data.head()\n"
   ]
  },
  {
   "cell_type": "code",
   "execution_count": null,
   "id": "aded55a1-5fa3-425f-afb5-4b4cf20a4741",
   "metadata": {},
   "outputs": [],
   "source": [
    "# Merge the sales_product_data with customer data to include customer details\n",
    "full_sales_data = sales_product_data.merge(customer_data, how='inner', on='CustomerKey')\n",
    "\n",
    "# Check the first few rows of the merged data\n",
    "full_sales_data.head()\n"
   ]
  },
  {
   "cell_type": "code",
   "execution_count": null,
   "id": "d898e6f4-e8e2-4d34-9dae-b6e1d570c22c",
   "metadata": {},
   "outputs": [],
   "source": [
    "# Merge sales data with stores data to analyze performance by store\n",
    "sales_store_data = full_sales_data.merge(stores_data, how='inner', on='StoreKey')\n",
    "\n",
    "# Check the first few rows of the merged data\n",
    "sales_store_data.head()\n"
   ]
  },
  {
   "cell_type": "code",
   "execution_count": null,
   "id": "d4df8f6b-cb8d-4320-857b-b93320fa526f",
   "metadata": {},
   "outputs": [],
   "source": [
    "# Compute SalesAmount as Quantity * Unit Price USD\n",
    "full_data['SalesAmount'] = full_data['Quantity'] * full_data['Unit Price USD']\n",
    "\n",
    "# Verify that the SalesAmount column is now present\n",
    "print(full_data.columns)\n"
   ]
  },
  {
   "cell_type": "code",
   "execution_count": null,
   "id": "32a3d564-a375-4e21-891c-d5a439a99e8b",
   "metadata": {},
   "outputs": [],
   "source": [
    "# Calculate total sales per customer\n",
    "total_sales_per_customer = full_data.groupby('CustomerKey')['SalesAmount'].sum().reset_index()\n",
    "\n",
    "# Sort customers by total spending\n",
    "total_sales_per_customer = total_sales_per_customer.sort_values(by='SalesAmount', ascending=False)\n",
    "\n",
    "# Display the results\n",
    "print(\"Total Sales per Customer:\")\n",
    "print(total_sales_per_customer.head(10))\n"
   ]
  },
  {
   "cell_type": "markdown",
   "id": "80393694-106b-4993-a437-39d2a25518e3",
   "metadata": {},
   "source": [
    "visualization"
   ]
  },
  {
   "cell_type": "code",
   "execution_count": null,
   "id": "0afe2a06-ccd7-4791-9865-4c4981351569",
   "metadata": {},
   "outputs": [],
   "source": [
    " # Set a refined style for all plots\n",
    "sns.set(style=\"whitegrid\")\n",
    "\n",
    "# a. Total Sales by Store\n",
    "plt.figure(figsize=(12, 7))\n",
    "sales_plot = sns.barplot(x='StoreKey', y='SalesAmount', data=total_sales_by_store, hue=None, palette='Blues_d')\n",
    "sales_plot.set_title('Total Sales by Store', fontsize=16, weight='bold')\n",
    "sales_plot.set_xlabel('Store Key', fontsize=12)\n",
    "sales_plot.set_ylabel('Total Sales Amount (USD)', fontsize=12)\n",
    "plt.xticks(rotation=45, ha='right', fontsize=10)\n",
    "plt.tight_layout()\n",
    "plt.show()\n"
   ]
  },
  {
   "cell_type": "code",
   "execution_count": null,
   "id": "12959d7b-4a22-43c2-ba7e-2aa954a7d606",
   "metadata": {},
   "outputs": [],
   "source": [
    "# Horizontal Bar chart for Top 10 Best-Selling Products\n",
    "plt.figure(figsize=(12, 7))\n",
    "sns.barplot(x='SalesAmount', y='ProductKey', data=top_selling_products.head(10), palette='Greens_d')\n",
    "plt.title('Top 10 Best-Selling Products', fontsize=16, weight='bold')\n",
    "plt.xlabel('Total Sales Amount (USD)', fontsize=12)\n",
    "plt.ylabel('Product Key', fontsize=12)\n",
    "plt.tight_layout()\n",
    "plt.show()\n"
   ]
  },
  {
   "cell_type": "code",
   "execution_count": null,
   "id": "4fd64f4f-2861-4597-b51f-5cb340b6ee89",
   "metadata": {},
   "outputs": [],
   "source": [
    "# c. Customer Spending Behavior (Total Sales per Customer)\n",
    "plt.figure(figsize=(12, 7))\n",
    "customer_spending_plot = sns.barplot(x='CustomerKey', y='SalesAmount', data=total_sales_per_customer.head(10), hue=None, palette='coolwarm')\n",
    "customer_spending_plot.set_title('Top 10 Customers by Total Spending', fontsize=16, weight='bold')\n",
    "customer_spending_plot.set_xlabel('Customer Key', fontsize=12)\n",
    "customer_spending_plot.set_ylabel('Total Sales Amount (USD)', fontsize=12)\n",
    "plt.xticks(rotation=45, ha='right', fontsize=10)\n",
    "plt.tight_layout()\n",
    "plt.show()"
   ]
  },
  {
   "cell_type": "code",
   "execution_count": null,
   "id": "60a74747-1a4d-41c0-8010-ec6b0e1438d2",
   "metadata": {},
   "outputs": [],
   "source": [
    "#Multivariate Analysis with Figure Size\n",
    "# Correlation heatmap\n",
    "plt.figure(figsize=(10, 8))  # Set figure size\n",
    "correlation_matrix = full_data[['SalesAmount', 'Quantity', 'Unit Price USD', 'Square Meters']].corr()\n",
    "sns.heatmap(correlation_matrix, annot=True, cmap='coolwarm', fmt='.2f', cbar=True)\n",
    "plt.title('Correlation Heatmap', fontsize=16, weight='bold')\n",
    "plt.show()\n",
    "\n",
    "# Scatterplot Matrix (Pairplot) to visualize relationships between multiple continuous variables\n",
    "sns.pairplot(full_data[['SalesAmount', 'Quantity', 'Unit Price USD', 'Square Meters']])\n",
    "plt.figure(figsize=(12, 12))  # Set figure size\n",
    "plt.show()\n",
    "\n",
    "# Linear regression plot between Sales Amount and Quantity\n",
    "plt.figure(figsize=(10, 6))  # Set figure size\n",
    "sns.lmplot(x='Quantity', y='SalesAmount', data=full_data, aspect=2, height=6)\n",
    "plt.title('Sales Amount vs. Quantity Sold', fontsize=16, weight='bold')\n",
    "plt.show()\n"
   ]
  }
 ],
 "metadata": {
  "kernelspec": {
   "display_name": "Python 3 (ipykernel)",
   "language": "python",
   "name": "python3"
  },
  "language_info": {
   "codemirror_mode": {
    "name": "ipython",
    "version": 3
   },
   "file_extension": ".py",
   "mimetype": "text/x-python",
   "name": "python",
   "nbconvert_exporter": "python",
   "pygments_lexer": "ipython3",
   "version": "3.12.7"
  }
 },
 "nbformat": 4,
 "nbformat_minor": 5
}
